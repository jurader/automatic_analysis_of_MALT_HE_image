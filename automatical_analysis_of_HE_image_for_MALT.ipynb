{
  "nbformat": 4,
  "nbformat_minor": 0,
  "metadata": {
    "colab": {
      "provenance": [],
      "authorship_tag": "ABX9TyOVxRvct+2EA9UcQkXvuKit",
      "include_colab_link": true
    },
    "kernelspec": {
      "name": "python3",
      "display_name": "Python 3"
    },
    "language_info": {
      "name": "python"
    }
  },
  "cells": [
    {
      "cell_type": "markdown",
      "metadata": {
        "id": "view-in-github",
        "colab_type": "text"
      },
      "source": [
        "<a href=\"https://colab.research.google.com/github/jurader/automatic_analysis_of_MALT_HE_image/blob/main/automatical_analysis_of_HE_image_for_MALT.ipynb\" target=\"_parent\"><img src=\"https://colab.research.google.com/assets/colab-badge.svg\" alt=\"Open In Colab\"/></a>"
      ]
    },
    {
      "cell_type": "code",
      "execution_count": 1,
      "metadata": {
        "id": "dyTgHMr9v-Ws",
        "colab": {
          "base_uri": "https://localhost:8080/"
        },
        "outputId": "15412a9c-fa48-4c31-9203-972e9bc42399"
      },
      "outputs": [
        {
          "output_type": "stream",
          "name": "stdout",
          "text": [
            "Cloning into 'automatic_analysis_of_MALT_HE_image'...\n",
            "remote: Enumerating objects: 29, done.\u001b[K\n",
            "remote: Counting objects: 100% (29/29), done.\u001b[K\n",
            "remote: Compressing objects: 100% (27/27), done.\u001b[K\n",
            "remote: Total 29 (delta 10), reused 0 (delta 0), pack-reused 0\u001b[K\n",
            "Receiving objects: 100% (29/29), 80.16 KiB | 1.41 MiB/s, done.\n",
            "Resolving deltas: 100% (10/10), done.\n"
          ]
        }
      ],
      "source": [
        "! git clone https://github.com/jurader/automatic_analysis_of_MALT_HE_image.git"
      ]
    },
    {
      "cell_type": "markdown",
      "source": [
        "# Demo image\n",
        "\n",
        "The image in our Github repository is derived from the following paper.\n",
        "\n",
        "https://www.hindawi.com/journals/crigm/2011/945752/\n"
      ],
      "metadata": {
        "id": "soZk8ifc1PPn"
      }
    },
    {
      "cell_type": "code",
      "source": [
        "%cd automatic_analysis_of_MALT_HE_image/"
      ],
      "metadata": {
        "id": "5Zkk-xcZxAxs",
        "colab": {
          "base_uri": "https://localhost:8080/"
        },
        "outputId": "cdfc6b01-8838-4139-cb2b-3c0e78343eb0"
      },
      "execution_count": 2,
      "outputs": [
        {
          "output_type": "stream",
          "name": "stdout",
          "text": [
            "/content/automatic_analysis_of_MALT_HE_image\n"
          ]
        }
      ]
    },
    {
      "cell_type": "code",
      "source": [
        "import os\n",
        "\n",
        "import numpy as np\n",
        "import pandas as pd\n",
        "import skimage\n",
        "\n",
        "\n",
        "def run_all(args):\n",
        "    df = pd.read_csv(args.i)\n",
        "    N = len(df)\n",
        "\n",
        "    results = []\n",
        "    paths = df[\"filepath\"]\n",
        "\n",
        "    for i in range(N):\n",
        "        i = paths[i]\n",
        "        tim = skimage.io.imread(i)\n",
        "\n",
        "        r = tim[:,:,0]\n",
        "        g = tim[:,:,1]\n",
        "        b = tim[:,:,2]\n",
        "        sh = r.shape\n",
        "\n",
        "        if args.tr is None:\n",
        "            mask_r = np.ones(sh)\n",
        "        else:\n",
        "            mask_r = (r > args.tr).astype(np.uint8)\n",
        "\n",
        "        if args.tg is None:\n",
        "            mask_g = np.ones(sh)\n",
        "        else:\n",
        "            mask_g = np.logical_and(g>args.tg, g<args.tgg).astype(np.uint8)\n",
        "\n",
        "        if args.tb is None:\n",
        "            mask_b = np.ones(sh)\n",
        "        elif args.tb == -1:\n",
        "            mask_b = (r > b).astype(np.uint8)\n",
        "        else:\n",
        "            mask_b = (b > args.tb).astype(np.uint8)\n",
        "\n",
        "        m = ((mask_r + mask_g + mask_b) > 2).astype(np.uint8)\n",
        "        v = m.sum()\n",
        "\n",
        "        results.append(v)\n",
        "        print(v, i)\n",
        "\n",
        "    final_df = pd.DataFrame(results)\n",
        "    final_df[\"filepath\"] = df[\"filepath\"]\n",
        "\n",
        "    path = \"%s/%s.csv\" % (args.o, sig)\n",
        "    print(\"Saving CSV:\", path)\n",
        "    final_df.to_csv(path, header=True, index=False)\n",
        "\n",
        "    return\n",
        "\n",
        "\n",
        "######################################\n",
        "# Main\n",
        "######################################\n",
        "if __name__ == \"__main__\":\n",
        "    import argparse\n",
        "    parser = argparse.ArgumentParser()\n",
        "    parser.add_argument(\"-i\", type=str, default=\"./list.csv\")\n",
        "    parser.add_argument(\"-o\", type=str, default=\"./result_csv/\")\n",
        "    parser.add_argument(\"--tr\", type=int, default=200)\n",
        "    parser.add_argument(\"--tg\", type=int, default=175)\n",
        "    parser.add_argument(\"--tgg\", type=int, default=225)\n",
        "    parser.add_argument(\"--tb\", type=int, default=-1)\n",
        "\n",
        "    args = parser.parse_args(args=[])\n",
        "    csv = os.path.basename(args.i).replace(\".\", \"_\")\n",
        "    args.sig = sig = \"%s__tr%s_tg%s_tgg%s_tb%s\" % (csv, args.tr, args.tg, args.tgg, args.tb)\n",
        "\n",
        "    print(args)\n",
        "    os.makedirs(args.o, exist_ok=True)\n",
        "\n",
        "    run_all(args)\n",
        "\n"
      ],
      "metadata": {
        "id": "vbWiqwwSxDda",
        "colab": {
          "base_uri": "https://localhost:8080/"
        },
        "outputId": "9d51af9f-a591-42f3-b73e-afd28b31b9db"
      },
      "execution_count": 3,
      "outputs": [
        {
          "output_type": "stream",
          "name": "stdout",
          "text": [
            "Namespace(i='./list.csv', o='./result_csv/', tr=200, tg=175, tgg=225, tb=-1, sig='list_csv__tr200_tg175_tgg225_tb-1')\n",
            "364 MALT_from_paper.jpg\n",
            "Saving CSV: ./result_csv//list_csv__tr200_tg175_tgg225_tb-1.csv\n"
          ]
        }
      ]
    }
  ]
}