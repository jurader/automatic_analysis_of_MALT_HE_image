{
  "nbformat": 4,
  "nbformat_minor": 0,
  "metadata": {
    "colab": {
      "provenance": [],
      "authorship_tag": "ABX9TyPKrX8z703bHhEgNyYQcEUu",
      "include_colab_link": true
    },
    "kernelspec": {
      "name": "python3",
      "display_name": "Python 3"
    },
    "language_info": {
      "name": "python"
    }
  },
  "cells": [
    {
      "cell_type": "markdown",
      "metadata": {
        "id": "view-in-github",
        "colab_type": "text"
      },
      "source": [
        "<a href=\"https://colab.research.google.com/github/jurader/automatic_analysis_of_MALT_HE_image/blob/main/automatical_analysis_of_HE_image_for_MALT.ipynb\" target=\"_parent\"><img src=\"https://colab.research.google.com/assets/colab-badge.svg\" alt=\"Open In Colab\"/></a>"
      ]
    },
    {
      "cell_type": "code",
      "execution_count": 4,
      "metadata": {
        "id": "dyTgHMr9v-Ws",
        "colab": {
          "base_uri": "https://localhost:8080/"
        },
        "outputId": "e739b6e6-b938-4857-db56-5517e4cfd4b6"
      },
      "outputs": [
        {
          "output_type": "stream",
          "name": "stdout",
          "text": [
            "Cloning into 'automatic_analysis_of_MALT_HE_image'...\n",
            "remote: Enumerating objects: 23, done.\u001b[K\n",
            "remote: Counting objects:   4% (1/23)\u001b[K\rremote: Counting objects:   8% (2/23)\u001b[K\rremote: Counting objects:  13% (3/23)\u001b[K\rremote: Counting objects:  17% (4/23)\u001b[K\rremote: Counting objects:  21% (5/23)\u001b[K\rremote: Counting objects:  26% (6/23)\u001b[K\rremote: Counting objects:  30% (7/23)\u001b[K\rremote: Counting objects:  34% (8/23)\u001b[K\rremote: Counting objects:  39% (9/23)\u001b[K\rremote: Counting objects:  43% (10/23)\u001b[K\rremote: Counting objects:  47% (11/23)\u001b[K\rremote: Counting objects:  52% (12/23)\u001b[K\rremote: Counting objects:  56% (13/23)\u001b[K\rremote: Counting objects:  60% (14/23)\u001b[K\rremote: Counting objects:  65% (15/23)\u001b[K\rremote: Counting objects:  69% (16/23)\u001b[K\rremote: Counting objects:  73% (17/23)\u001b[K\rremote: Counting objects:  78% (18/23)\u001b[K\rremote: Counting objects:  82% (19/23)\u001b[K\rremote: Counting objects:  86% (20/23)\u001b[K\rremote: Counting objects:  91% (21/23)\u001b[K\rremote: Counting objects:  95% (22/23)\u001b[K\rremote: Counting objects: 100% (23/23)\u001b[K\rremote: Counting objects: 100% (23/23), done.\u001b[K\n",
            "remote: Compressing objects: 100% (21/21), done.\u001b[K\n",
            "remote: Total 23 (delta 6), reused 0 (delta 0), pack-reused 0\u001b[K\n",
            "Receiving objects: 100% (23/23), 78.89 KiB | 1.52 MiB/s, done.\n",
            "Resolving deltas: 100% (6/6), done.\n"
          ]
        }
      ],
      "source": [
        "! git clone https://github.com/jurader/automatic_analysis_of_MALT_HE_image.git"
      ]
    },
    {
      "cell_type": "markdown",
      "source": [
        "# Demo image\n",
        "\n",
        "An image obtained from Github repo. is derived from the following paper.\n",
        "\n",
        "https://www.hindawi.com/journals/crigm/2011/945752/\n"
      ],
      "metadata": {
        "id": "soZk8ifc1PPn"
      }
    },
    {
      "cell_type": "code",
      "source": [
        "%cd automatic_analysis_of_MALT_HE_image/"
      ],
      "metadata": {
        "id": "5Zkk-xcZxAxs",
        "colab": {
          "base_uri": "https://localhost:8080/"
        },
        "outputId": "243eb761-7a9f-43c6-a66d-3a56d696f2f8"
      },
      "execution_count": 5,
      "outputs": [
        {
          "output_type": "stream",
          "name": "stdout",
          "text": [
            "/content/automatic_analysis_of_MALT_HE_image/automatic_analysis_of_MALT_HE_image\n"
          ]
        }
      ]
    },
    {
      "cell_type": "code",
      "source": [
        "import os\n",
        "\n",
        "import numpy as np\n",
        "import pandas as pd\n",
        "import skimage, skimage.io, skimage.color\n",
        "from skimage.transform import resize\n",
        "\n",
        "\n",
        "def run_all(args):\n",
        "    df = pd.read_csv(args.i)\n",
        "    N = len(df)\n",
        "\n",
        "    results = []\n",
        "    paths = df[\"filepath\"]\n",
        "\n",
        "    for i in range(N):\n",
        "        i = paths[i]\n",
        "        tim = skimage.io.imread(i)\n",
        "\n",
        "        r = tim[:,:,0]\n",
        "        g = tim[:,:,1]\n",
        "        b = tim[:,:,2]\n",
        "        sh = r.shape\n",
        "\n",
        "        if args.tr is None:\n",
        "            mask_r = np.ones(sh)\n",
        "        else:\n",
        "            mask_r = (r > args.tr).astype(np.uint8)\n",
        "\n",
        "        if args.tg is None:\n",
        "            mask_g = np.ones(sh)\n",
        "        else:\n",
        "            mask_g = np.logical_and(g>args.tg, g<args.tgg).astype(np.uint8)\n",
        "\n",
        "        if args.tb is None:\n",
        "            mask_b = np.ones(sh)\n",
        "        elif args.tb == -1:\n",
        "            mask_b = (r > b).astype(np.uint8)\n",
        "        else:\n",
        "            mask_b = (b > args.tb).astype(np.uint8)\n",
        "\n",
        "        m = ((mask_r + mask_g + mask_b) > 2).astype(np.uint8)\n",
        "        v = m.sum()\n",
        "\n",
        "        results.append(v)\n",
        "        print(v, i)\n",
        "\n",
        "    final_df = pd.DataFrame(results)\n",
        "    final_df[\"filepath\"] = df[\"filepath\"]\n",
        "\n",
        "    path = \"%s/%s.csv\" % (args.o, sig)\n",
        "    print(\"Saving CSV:\", path)\n",
        "    final_df.to_csv(path, header=True, index=False)\n",
        "\n",
        "    return\n",
        "\n",
        "\n",
        "######################################\n",
        "# Main\n",
        "######################################\n",
        "if __name__ == \"__main__\":\n",
        "    import argparse\n",
        "    parser = argparse.ArgumentParser()\n",
        "    parser.add_argument(\"-i\", type=str, default=\"./list.csv\")\n",
        "    parser.add_argument(\"-o\", type=str, default=\"./result_csv/\")\n",
        "    parser.add_argument(\"--tr\", type=int, default=200)\n",
        "    parser.add_argument(\"--tg\", type=int, default=175)\n",
        "    parser.add_argument(\"--tgg\", type=int, default=225)\n",
        "    parser.add_argument(\"--tb\", type=int, default=-1)\n",
        "\n",
        "    args = parser.parse_args(args=[])\n",
        "    csv = os.path.basename(args.i).replace(\".\", \"_\")\n",
        "    args.sig = sig = \"%s__tr%s_tg%s_tgg%s_tb%s\" % (csv, args.tr, args.tg, args.tgg, args.tb)\n",
        "\n",
        "    print(args)\n",
        "    os.makedirs(args.o, exist_ok=True)\n",
        "\n",
        "    run_all(args)\n",
        "\n"
      ],
      "metadata": {
        "id": "vbWiqwwSxDda",
        "colab": {
          "base_uri": "https://localhost:8080/"
        },
        "outputId": "ffeab50f-254b-486b-dc68-888c9c9f1269"
      },
      "execution_count": 6,
      "outputs": [
        {
          "output_type": "stream",
          "name": "stdout",
          "text": [
            "Namespace(i='./list.csv', o='./result_csv/', tr=200, tg=175, tgg=225, tb=-1, sig='list_csv__tr200_tg175_tgg225_tb-1')\n",
            "364 MALT_from_paper.jpg\n",
            "Saving CSV: ./result_csv//list_csv__tr200_tg175_tgg225_tb-1.csv\n"
          ]
        }
      ]
    }
  ]
}